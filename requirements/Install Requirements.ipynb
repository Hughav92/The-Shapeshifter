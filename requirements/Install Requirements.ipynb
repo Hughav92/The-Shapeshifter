{
 "cells": [
  {
   "cell_type": "code",
   "execution_count": null,
   "id": "1422f056",
   "metadata": {},
   "outputs": [],
   "source": [
    "import sys\n",
    "!{sys.executable} -m pip install -r requirements.txt\n",
    "\n",
    "import numpy\n",
    "import osc4py3\n",
    "import pythonosc\n",
    "import keyboard\n",
    "import scipy\n",
    "import fastdtw\n",
    "import librosa\n",
    "import maad\n",
    "\n",
    "print(bytearray.fromhex(\"53756363657373\").decode())"
   ]
  }
 ],
 "metadata": {
  "interpreter": {
   "hash": "ad363759b7489f7936807d26c3e143ad43947650f533efdb43c79eea557fa9b4"
  },
  "kernelspec": {
   "display_name": "Python 3.8.12 ('MCT4053')",
   "language": "python",
   "name": "python3"
  },
  "language_info": {
   "codemirror_mode": {
    "name": "ipython",
    "version": 3
   },
   "file_extension": ".py",
   "mimetype": "text/x-python",
   "name": "python",
   "nbconvert_exporter": "python",
   "pygments_lexer": "ipython3",
   "version": "3.9.16"
  }
 },
 "nbformat": 4,
 "nbformat_minor": 5
}
